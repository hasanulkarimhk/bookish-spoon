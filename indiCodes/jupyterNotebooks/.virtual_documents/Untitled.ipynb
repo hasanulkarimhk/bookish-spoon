import numpy as np
import matplotlib.pyplot as plt


a1 = np.array([3, 5, 7, 3])



a1






