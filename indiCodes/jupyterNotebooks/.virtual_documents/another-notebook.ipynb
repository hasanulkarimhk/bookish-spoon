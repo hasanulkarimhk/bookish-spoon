


print("Hello World")


import numpy as np
import matplotlib.pyplot as plt


a1 = np.array([3, 5, 7, 3])
a1


a2 = np.zeros(10)


a2


t = np.arange(0.0, 2.0, 0.01)
s = 1+np.sin(2* np.pi *t)

fig, ax = plt.subplots()

ax.plot(t, s)

ax.set(xlabel = 'time (s)', ylabel = 'voltage(mV)',
       title = "hebfwhibgh")

ax.grid()






b1 = np.zeros(10)



