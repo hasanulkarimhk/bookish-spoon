{
 "cells": [
  {
   "cell_type": "code",
   "execution_count": 1,
   "id": "0e8517c9-4e34-46e3-8f36-cd76ea6b4cfb",
   "metadata": {},
   "outputs": [],
   "source": [
    "import numpy as np\n",
    "import matplotlib.pyplot as plt"
   ]
  },
  {
   "cell_type": "code",
   "execution_count": 2,
   "id": "a0fe202b-771a-48d6-9140-8bc37391d420",
   "metadata": {},
   "outputs": [],
   "source": [
    "a1 = np.array([3, 5, 7, 3])\n"
   ]
  },
  {
   "cell_type": "code",
   "execution_count": 3,
   "id": "e2f621ee-c9f9-4725-800c-ba9f72af4c7e",
   "metadata": {},
   "outputs": [
    {
     "data": {
      "text/plain": [
       "array([3, 5, 7, 3])"
      ]
     },
     "execution_count": 3,
     "metadata": {},
     "output_type": "execute_result"
    }
   ],
   "source": [
    "a1"
   ]
  },
  {
   "cell_type": "code",
   "execution_count": null,
   "id": "fff518bb-d9a4-4958-a4ae-27049539ff63",
   "metadata": {},
   "outputs": [],
   "source": [
    "## I "
   ]
  }
 ],
 "metadata": {
  "kernelspec": {
   "display_name": "Python 3 (ipykernel)",
   "language": "python",
   "name": "python3"
  },
  "language_info": {
   "codemirror_mode": {
    "name": "ipython",
    "version": 3
   },
   "file_extension": ".py",
   "mimetype": "text/x-python",
   "name": "python",
   "nbconvert_exporter": "python",
   "pygments_lexer": "ipython3",
   "version": "3.12.4"
  }
 },
 "nbformat": 4,
 "nbformat_minor": 5
}
