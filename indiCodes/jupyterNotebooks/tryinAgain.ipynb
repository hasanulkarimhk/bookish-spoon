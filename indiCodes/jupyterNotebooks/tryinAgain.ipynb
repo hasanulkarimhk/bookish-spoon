{
 "cells": [
  {
   "cell_type": "code",
   "execution_count": 1,
   "id": "0e8517c9-4e34-46e3-8f36-cd76ea6b4cfb",
   "metadata": {},
   "outputs": [],
   "source": [
    "import numpy as np\n",
    "import matplotlib.pyplot as plt"
   ]
  },
  {
   "cell_type": "code",
   "execution_count": 2,
   "id": "a0fe202b-771a-48d6-9140-8bc37391d420",
   "metadata": {},
   "outputs": [],
   "source": [
    "a1 = np.array([3, 5, 7, 3])\n"
   ]
  },
  {
   "cell_type": "code",
   "execution_count": 3,
   "id": "e2f621ee-c9f9-4725-800c-ba9f72af4c7e",
   "metadata": {},
   "outputs": [
    {
     "data": {
      "text/plain": [
       "array([3, 5, 7, 3])"
      ]
     },
     "execution_count": 3,
     "metadata": {},
     "output_type": "execute_result"
    }
   ],
   "source": [
    "a1"
   ]
  },
  {
   "cell_type": "markdown",
   "id": "69e012a7-224e-49e3-87b5-8caf839f5500",
   "metadata": {},
   "source": [
    " # I love you god for making things so beautiful."
   ]
  },
  {
   "cell_type": "code",
   "execution_count": null,
   "id": "13b59c63-e933-41f1-8e22-7a352b7a4af0",
   "metadata": {},
   "outputs": [],
   "source": []
  }
 ],
 "metadata": {
  "kernelspec": {
   "display_name": "Python 3 (ipykernel)",
   "language": "python",
   "name": "python3"
  },
  "language_info": {
   "codemirror_mode": {
    "name": "ipython",
    "version": 3
   },
   "file_extension": ".py",
   "mimetype": "text/x-python",
   "name": "python",
   "nbconvert_exporter": "python",
   "pygments_lexer": "ipython3",
   "version": "3.12.4"
  }
 },
 "nbformat": 4,
 "nbformat_minor": 5
}
